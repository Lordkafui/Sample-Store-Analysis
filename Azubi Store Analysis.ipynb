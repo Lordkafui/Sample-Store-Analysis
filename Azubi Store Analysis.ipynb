{
 "cells": [
  {
   "cell_type": "code",
   "execution_count": 1,
   "id": "4d70b231",
   "metadata": {},
   "outputs": [
    {
     "name": "stdout",
     "output_type": "stream",
     "text": [
      "\n",
      "AZUBI STORE ANALYSIS\n",
      "\n"
     ]
    }
   ],
   "source": [
    "# MAWUNYO KAFUI DENTEH\n",
    "# mawunyo.kafui@azubiafrica.org\n",
    "# PEER GROUP 9\n",
    "'''\n",
    "Azubi store has products that customers love. Below are the products, prices and the number of customers that patronise\n",
    "each product last week.\n",
    "\n",
    "The owner wants to do some analysis on the data with these criteria's:\n",
    "\n",
    "- calculate the total average price for all products\n",
    "- create new price list that reduces the prices by 5 cedis\n",
    "- calculate the total revenue generated from the products\n",
    "- based on the new prices, which products are less than 30\n",
    "\n",
    "'''\n",
    "products = ['Sankofa Foods', 'Jamestown Coffee', 'Bioko Chocolate', 'Blue Skies Ice Cream',\\\n",
    "    'Fair Afric Chocolate', 'Kawa Moka Coffee', 'Aphro Spirit', 'Mesando Bissap', 'Voltic']\n",
    "\n",
    "products = ['Sankofa Foods', 'Jamestown Coffee', 'Bioko Chocolate', 'Blue Skies Ice Cream',\\\n",
    "    'Fair Afric Chocolate', 'Kawa Moka Coffee', 'Aphro Spirit', 'Mesando Bissap', 'Voltic']\n",
    "\n",
    "prices = [30, 25, 40, 20, 20, 35, 45, 50, 35]\n",
    "\n",
    "last_week = [2, 3, 5, 8, 4, 4, 6, 2, 9]\n",
    "\n",
    "analysis = '\\nAzubi Store Analysis\\n'\n",
    "xf = analysis.title()\n",
    "print(xf.upper())"
   ]
  },
  {
   "cell_type": "code",
   "execution_count": 2,
   "id": "bafa16d0",
   "metadata": {},
   "outputs": [
    {
     "name": "stdout",
     "output_type": "stream",
     "text": [
      "The total average price is  33.33\n",
      "\n"
     ]
    }
   ],
   "source": [
    "# total average price for all products\n",
    "total_price_avg = sum(prices) / len(prices)\n",
    "total_price_avg = f\"{total_price_avg:.2f}\\n\"\n",
    "print('The total average price is ', total_price_avg)\n",
    "# new = '''The total average price is {}'''\n",
    "# print(new.format(total_price_avg))"
   ]
  },
  {
   "cell_type": "code",
   "execution_count": 3,
   "id": "fafccca2",
   "metadata": {},
   "outputs": [
    {
     "name": "stdout",
     "output_type": "stream",
     "text": [
      "The new price list is:\n",
      " [25, 20, 35, 15, 15, 30, 40, 45, 30]\n"
     ]
    }
   ],
   "source": [
    "# create new price list\n",
    "new_price_list = [x - 5 for x in prices]\n",
    "print('The new price list is:\\n', new_price_list)\n",
    "# print(new_price_list)\n"
   ]
  },
  {
   "cell_type": "code",
   "execution_count": 4,
   "id": "7cf64694",
   "metadata": {},
   "outputs": [
    {
     "name": "stdout",
     "output_type": "stream",
     "text": [
      "\n",
      "The total revenue generated is 1400\n"
     ]
    }
   ],
   "source": [
    "# calculate total revenue\n",
    "total_revenue = [prices * last_week for prices,last_week in zip(prices,last_week)] \n",
    "print('\\nThe total revenue generated is', sum(total_revenue))"
   ]
  },
  {
   "cell_type": "code",
   "execution_count": 5,
   "id": "c538a969",
   "metadata": {},
   "outputs": [
    {
     "name": "stdout",
     "output_type": "stream",
     "text": [
      "\n",
      "The resultant dict for produxts and new price list combined\n",
      "\n",
      "{'Sankofa Foods': 25, 'Jamestown Coffee': 20, 'Bioko Chocolate': 35, 'Blue Skies Ice Cream': 15, 'Fair Afric Chocolate': 15, 'Kawa Moka Coffee': 30, 'Aphro Spirit': 40, 'Mesando Bissap': 45, 'Voltic': 30}\n",
      "\n",
      "The products less than 30 with regerence to the new price list:\n",
      " [('Sankofa Foods', 25), ('Jamestown Coffee', 20), ('Blue Skies Ice Cream', 15), ('Fair Afric Chocolate', 15)]\n",
      "\n"
     ]
    }
   ],
   "source": [
    "# products less than 30 cedis\n",
    "# def products_less(keys, values):\n",
    "#   return dict(zip(keys, values))\n",
    "\n",
    "# print(\"\\nCombine the values of the said two lists into a dictionary:\")\n",
    "# print(products_less(products, new_price_list))\n",
    "# using naive method\n",
    "# to convert lists to dictionary\n",
    "# res = {}\n",
    "# for key in products:\n",
    "#     for value in new_price_list:\n",
    "#         res[key] = value\n",
    "#         new_price_list.remove(value)\n",
    "#         break\n",
    " \n",
    "# # Printing resultant dictionary\n",
    "# print(\"\\nResultant dictionary is : \\n\" + str(res))\n",
    "\n",
    "######################################################\n",
    "\n",
    "dictionary = {k: v for k, v in zip(products, new_price_list)}\n",
    "print('\\nThe resultant dict for produxts and new price list combined\\n')\n",
    "print(dictionary)\n",
    "\n",
    "\n",
    "upper_limit = 30\n",
    "products_less_30 = [(key, value) for key, value in dictionary.items() if value < upper_limit]\n",
    "print('\\nThe products less than 30 with regerence to the new price list:\\n', products_less_30)\n",
    "\n",
    "print()\n"
   ]
  },
  {
   "cell_type": "code",
   "execution_count": null,
   "id": "c29c9812",
   "metadata": {},
   "outputs": [],
   "source": []
  }
 ],
 "metadata": {
  "kernelspec": {
   "display_name": "Python 3 (ipykernel)",
   "language": "python",
   "name": "python3"
  },
  "language_info": {
   "codemirror_mode": {
    "name": "ipython",
    "version": 3
   },
   "file_extension": ".py",
   "mimetype": "text/x-python",
   "name": "python",
   "nbconvert_exporter": "python",
   "pygments_lexer": "ipython3",
   "version": "3.9.12"
  }
 },
 "nbformat": 4,
 "nbformat_minor": 5
}
